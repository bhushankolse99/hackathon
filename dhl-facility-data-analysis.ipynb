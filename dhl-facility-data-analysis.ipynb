{
 "cells": [
  {
   "cell_type": "code",
   "execution_count": null,
   "id": "4ef41a45",
   "metadata": {
    "_cell_guid": "b1076dfc-b9ad-4769-8c92-a6c4dae69d19",
    "_uuid": "8f2839f25d086af736a60e9eeb907d3b93b6e0e5",
    "papermill": {
     "duration": 1.365391,
     "end_time": "2022-08-12T06:13:27.796241",
     "exception": false,
     "start_time": "2022-08-12T06:13:26.430850",
     "status": "completed"
    },
    "tags": []
   },
   "outputs": [],
   "source": [
    "# This Python 3 environment comes with many helpful analytics libraries installed\n",
    "# It is defined by the kaggle/python Docker image: https://github.com/kaggle/docker-python\n",
    "# For example, here's several helpful packages to load\n",
    "\n",
    "import numpy as np # linear algebra\n",
    "import pandas as pd # data processing, CSV file I/O (e.g. pd.read_csv)\n",
    "import matplotlib.pyplot as plt\n",
    "import seaborn as sns\n",
    "from sklearn.pipeline import Pipeline\n",
    "from sklearn.preprocessing import StandardScaler,PolynomialFeatures\n",
    "from sklearn.linear_model import LinearRegression\n",
    "%matplotlib inline\n",
    "\n",
    "# Input data files are available in the read-only \"../input/\" directory\n",
    "# For example, running this (by clicking run or pressing Shift+Enter) will list all files under the input directory\n",
    "\n",
    "import os\n",
    "for dirname, _, filenames in os.walk('/kaggle/input'):\n",
    "    for filename in filenames:\n",
    "        print(os.path.join(dirname, filename))\n",
    "\n",
    "# You can write up to 20GB to the current directory (/kaggle/working/) that gets preserved as output when you create a version using \"Save & Run All\" \n",
    "# You can also write temporary files to /kaggle/temp/, but they won't be saved outside of the current session"
   ]
  },
  {
   "cell_type": "code",
   "execution_count": 33,
   "id": "18a4faa7",
   "metadata": {
    "papermill": {
     "duration": 0.222681,
     "end_time": "2022-08-12T06:13:28.023639",
     "exception": false,
     "start_time": "2022-08-12T06:13:27.800958",
     "status": "completed"
    },
    "tags": []
   },
   "outputs": [
    {
     "ename": "UnicodeDecodeError",
     "evalue": "'utf-8' codec can't decode byte 0xae in position 151040: invalid start byte",
     "output_type": "error",
     "traceback": [
      "\u001b[1;31m---------------------------------------------------------------------------\u001b[0m",
      "\u001b[1;31mUnicodeDecodeError\u001b[0m                        Traceback (most recent call last)",
      "Cell \u001b[1;32mIn[33], line 2\u001b[0m\n\u001b[0;32m      1\u001b[0m file \u001b[38;5;241m=\u001b[39m \u001b[38;5;124m\"\u001b[39m\u001b[38;5;124mLocality_village_pincode_final_mar-2017.csv\u001b[39m\u001b[38;5;124m\"\u001b[39m\n\u001b[1;32m----> 2\u001b[0m df \u001b[38;5;241m=\u001b[39m pd\u001b[38;5;241m.\u001b[39mread_csv(file)\n",
      "File \u001b[1;32m~\\anaconda3\\Lib\\site-packages\\pandas\\io\\parsers\\readers.py:1026\u001b[0m, in \u001b[0;36mread_csv\u001b[1;34m(filepath_or_buffer, sep, delimiter, header, names, index_col, usecols, dtype, engine, converters, true_values, false_values, skipinitialspace, skiprows, skipfooter, nrows, na_values, keep_default_na, na_filter, verbose, skip_blank_lines, parse_dates, infer_datetime_format, keep_date_col, date_parser, date_format, dayfirst, cache_dates, iterator, chunksize, compression, thousands, decimal, lineterminator, quotechar, quoting, doublequote, escapechar, comment, encoding, encoding_errors, dialect, on_bad_lines, delim_whitespace, low_memory, memory_map, float_precision, storage_options, dtype_backend)\u001b[0m\n\u001b[0;32m   1013\u001b[0m kwds_defaults \u001b[38;5;241m=\u001b[39m _refine_defaults_read(\n\u001b[0;32m   1014\u001b[0m     dialect,\n\u001b[0;32m   1015\u001b[0m     delimiter,\n\u001b[1;32m   (...)\u001b[0m\n\u001b[0;32m   1022\u001b[0m     dtype_backend\u001b[38;5;241m=\u001b[39mdtype_backend,\n\u001b[0;32m   1023\u001b[0m )\n\u001b[0;32m   1024\u001b[0m kwds\u001b[38;5;241m.\u001b[39mupdate(kwds_defaults)\n\u001b[1;32m-> 1026\u001b[0m \u001b[38;5;28;01mreturn\u001b[39;00m _read(filepath_or_buffer, kwds)\n",
      "File \u001b[1;32m~\\anaconda3\\Lib\\site-packages\\pandas\\io\\parsers\\readers.py:626\u001b[0m, in \u001b[0;36m_read\u001b[1;34m(filepath_or_buffer, kwds)\u001b[0m\n\u001b[0;32m    623\u001b[0m     \u001b[38;5;28;01mreturn\u001b[39;00m parser\n\u001b[0;32m    625\u001b[0m \u001b[38;5;28;01mwith\u001b[39;00m parser:\n\u001b[1;32m--> 626\u001b[0m     \u001b[38;5;28;01mreturn\u001b[39;00m parser\u001b[38;5;241m.\u001b[39mread(nrows)\n",
      "File \u001b[1;32m~\\anaconda3\\Lib\\site-packages\\pandas\\io\\parsers\\readers.py:1923\u001b[0m, in \u001b[0;36mTextFileReader.read\u001b[1;34m(self, nrows)\u001b[0m\n\u001b[0;32m   1916\u001b[0m nrows \u001b[38;5;241m=\u001b[39m validate_integer(\u001b[38;5;124m\"\u001b[39m\u001b[38;5;124mnrows\u001b[39m\u001b[38;5;124m\"\u001b[39m, nrows)\n\u001b[0;32m   1917\u001b[0m \u001b[38;5;28;01mtry\u001b[39;00m:\n\u001b[0;32m   1918\u001b[0m     \u001b[38;5;66;03m# error: \"ParserBase\" has no attribute \"read\"\u001b[39;00m\n\u001b[0;32m   1919\u001b[0m     (\n\u001b[0;32m   1920\u001b[0m         index,\n\u001b[0;32m   1921\u001b[0m         columns,\n\u001b[0;32m   1922\u001b[0m         col_dict,\n\u001b[1;32m-> 1923\u001b[0m     ) \u001b[38;5;241m=\u001b[39m \u001b[38;5;28mself\u001b[39m\u001b[38;5;241m.\u001b[39m_engine\u001b[38;5;241m.\u001b[39mread(  \u001b[38;5;66;03m# type: ignore[attr-defined]\u001b[39;00m\n\u001b[0;32m   1924\u001b[0m         nrows\n\u001b[0;32m   1925\u001b[0m     )\n\u001b[0;32m   1926\u001b[0m \u001b[38;5;28;01mexcept\u001b[39;00m \u001b[38;5;167;01mException\u001b[39;00m:\n\u001b[0;32m   1927\u001b[0m     \u001b[38;5;28mself\u001b[39m\u001b[38;5;241m.\u001b[39mclose()\n",
      "File \u001b[1;32m~\\anaconda3\\Lib\\site-packages\\pandas\\io\\parsers\\c_parser_wrapper.py:234\u001b[0m, in \u001b[0;36mCParserWrapper.read\u001b[1;34m(self, nrows)\u001b[0m\n\u001b[0;32m    232\u001b[0m \u001b[38;5;28;01mtry\u001b[39;00m:\n\u001b[0;32m    233\u001b[0m     \u001b[38;5;28;01mif\u001b[39;00m \u001b[38;5;28mself\u001b[39m\u001b[38;5;241m.\u001b[39mlow_memory:\n\u001b[1;32m--> 234\u001b[0m         chunks \u001b[38;5;241m=\u001b[39m \u001b[38;5;28mself\u001b[39m\u001b[38;5;241m.\u001b[39m_reader\u001b[38;5;241m.\u001b[39mread_low_memory(nrows)\n\u001b[0;32m    235\u001b[0m         \u001b[38;5;66;03m# destructive to chunks\u001b[39;00m\n\u001b[0;32m    236\u001b[0m         data \u001b[38;5;241m=\u001b[39m _concatenate_chunks(chunks)\n",
      "File \u001b[1;32mparsers.pyx:838\u001b[0m, in \u001b[0;36mpandas._libs.parsers.TextReader.read_low_memory\u001b[1;34m()\u001b[0m\n",
      "File \u001b[1;32mparsers.pyx:905\u001b[0m, in \u001b[0;36mpandas._libs.parsers.TextReader._read_rows\u001b[1;34m()\u001b[0m\n",
      "File \u001b[1;32mparsers.pyx:874\u001b[0m, in \u001b[0;36mpandas._libs.parsers.TextReader._tokenize_rows\u001b[1;34m()\u001b[0m\n",
      "File \u001b[1;32mparsers.pyx:891\u001b[0m, in \u001b[0;36mpandas._libs.parsers.TextReader._check_tokenize_status\u001b[1;34m()\u001b[0m\n",
      "File \u001b[1;32mparsers.pyx:2053\u001b[0m, in \u001b[0;36mpandas._libs.parsers.raise_parser_error\u001b[1;34m()\u001b[0m\n",
      "File \u001b[1;32m<frozen codecs>:322\u001b[0m, in \u001b[0;36mdecode\u001b[1;34m(self, input, final)\u001b[0m\n",
      "\u001b[1;31mUnicodeDecodeError\u001b[0m: 'utf-8' codec can't decode byte 0xae in position 151040: invalid start byte"
     ]
    }
   ],
   "source": [
    "file = \"Locality_village_pincode_final_mar-2017.csv\"\n",
    "df = pd.read_csv(file)"
   ]
  },
  {
   "cell_type": "code",
   "execution_count": 44,
   "id": "56df6155",
   "metadata": {
    "papermill": {
     "duration": 0.038186,
     "end_time": "2022-08-12T06:13:28.066072",
     "exception": false,
     "start_time": "2022-08-12T06:13:28.027886",
     "status": "completed"
    },
    "tags": []
   },
   "outputs": [
    {
     "data": {
      "text/html": [
       "<div>\n",
       "<style scoped>\n",
       "    .dataframe tbody tr th:only-of-type {\n",
       "        vertical-align: middle;\n",
       "    }\n",
       "\n",
       "    .dataframe tbody tr th {\n",
       "        vertical-align: top;\n",
       "    }\n",
       "\n",
       "    .dataframe thead th {\n",
       "        text-align: right;\n",
       "    }\n",
       "</style>\n",
       "<table border=\"1\" class=\"dataframe\">\n",
       "  <thead>\n",
       "    <tr style=\"text-align: right;\">\n",
       "      <th></th>\n",
       "      <th>X</th>\n",
       "      <th>Y</th>\n",
       "      <th>OBJECTID</th>\n",
       "      <th>FEATURE_ID</th>\n",
       "      <th>NAME</th>\n",
       "      <th>ADDRESS</th>\n",
       "      <th>ADDRESS2</th>\n",
       "      <th>CITY</th>\n",
       "      <th>STATE</th>\n",
       "      <th>ZIP</th>\n",
       "      <th>LATITUDE</th>\n",
       "      <th>LONGITUDE</th>\n",
       "      <th>MATCH_STATUS</th>\n",
       "      <th>PLACEMENT</th>\n",
       "      <th>CENSUS_CODE</th>\n",
       "      <th>LAST_PICKUP</th>\n",
       "      <th>LOCATION_TY</th>\n",
       "      <th>LOCATION_TH</th>\n",
       "    </tr>\n",
       "  </thead>\n",
       "  <tbody>\n",
       "    <tr>\n",
       "      <th>0</th>\n",
       "      <td>-1.120834e+07</td>\n",
       "      <td>5.030051e+06</td>\n",
       "      <td>1</td>\n",
       "      <td>2093</td>\n",
       "      <td>DHL STATION</td>\n",
       "      <td>5120 EAST LEE BIRD RD</td>\n",
       "      <td>NOT AVAILABLE</td>\n",
       "      <td>NORTH PLATTE</td>\n",
       "      <td>NE</td>\n",
       "      <td>69101</td>\n",
       "      <td>41.119952</td>\n",
       "      <td>-100.686217</td>\n",
       "      <td>OK</td>\n",
       "      <td>On Road</td>\n",
       "      <td>Not Available</td>\n",
       "      <td>3:00 Pm [M-F]\\r\\nno Sat Pickup</td>\n",
       "      <td>Drop Box</td>\n",
       "      <td>Drop Box and Drop Off Facility</td>\n",
       "    </tr>\n",
       "    <tr>\n",
       "      <th>1</th>\n",
       "      <td>-8.043436e+06</td>\n",
       "      <td>5.299085e+06</td>\n",
       "      <td>2</td>\n",
       "      <td>2293</td>\n",
       "      <td>PC CONNECTION</td>\n",
       "      <td>450 MARLBORO ST</td>\n",
       "      <td>NOT AVAILABLE</td>\n",
       "      <td>KEENE</td>\n",
       "      <td>NH</td>\n",
       "      <td>3431</td>\n",
       "      <td>42.915280</td>\n",
       "      <td>-72.255417</td>\n",
       "      <td>OK</td>\n",
       "      <td>Not Available</td>\n",
       "      <td>330059711001024</td>\n",
       "      <td>6:30 Pm [M-F]\\r\\nno Sat Pickup</td>\n",
       "      <td>Drop Box</td>\n",
       "      <td>Drop Box and Drop Off Facility</td>\n",
       "    </tr>\n",
       "    <tr>\n",
       "      <th>2</th>\n",
       "      <td>-8.045972e+06</td>\n",
       "      <td>5.301971e+06</td>\n",
       "      <td>3</td>\n",
       "      <td>2294</td>\n",
       "      <td>20 CENTRAL SQ</td>\n",
       "      <td>20 CENTRAL SQ</td>\n",
       "      <td>NOT AVAILABLE</td>\n",
       "      <td>KEENE</td>\n",
       "      <td>NH</td>\n",
       "      <td>3431</td>\n",
       "      <td>42.934262</td>\n",
       "      <td>-72.278195</td>\n",
       "      <td>OK</td>\n",
       "      <td>Not Available</td>\n",
       "      <td>330059713003015</td>\n",
       "      <td>5:00 Pm [M-F]\\r\\nno Sat Pickup</td>\n",
       "      <td>Drop Box</td>\n",
       "      <td>Drop Box and Drop Off Facility</td>\n",
       "    </tr>\n",
       "    <tr>\n",
       "      <th>3</th>\n",
       "      <td>-8.046142e+06</td>\n",
       "      <td>5.301455e+06</td>\n",
       "      <td>4</td>\n",
       "      <td>2299</td>\n",
       "      <td>SHIPPING SHACK</td>\n",
       "      <td>63 EMERALD ST</td>\n",
       "      <td>NOT AVAILABLE</td>\n",
       "      <td>KEENE</td>\n",
       "      <td>NH</td>\n",
       "      <td>3431</td>\n",
       "      <td>42.930868</td>\n",
       "      <td>-72.279720</td>\n",
       "      <td>OK</td>\n",
       "      <td>Not Available</td>\n",
       "      <td>330059714011009</td>\n",
       "      <td>5:00 Pm [M-F]\\r\\nno Sat Pickup</td>\n",
       "      <td>DHL Authorized Shipping Center</td>\n",
       "      <td>DHL Authorized Shipping Center</td>\n",
       "    </tr>\n",
       "    <tr>\n",
       "      <th>4</th>\n",
       "      <td>-8.053022e+06</td>\n",
       "      <td>5.367961e+06</td>\n",
       "      <td>5</td>\n",
       "      <td>2597</td>\n",
       "      <td>CLAREMONT LOCK &amp; KEY</td>\n",
       "      <td>159 PLEASANT ST</td>\n",
       "      <td>NOT AVAILABLE</td>\n",
       "      <td>CLAREMONT</td>\n",
       "      <td>NH</td>\n",
       "      <td>3743</td>\n",
       "      <td>43.366740</td>\n",
       "      <td>-72.341526</td>\n",
       "      <td>OK</td>\n",
       "      <td>Not Available</td>\n",
       "      <td>330199759022015</td>\n",
       "      <td>3:00 Pm [M-F]\\r\\n12:00 Pm [Sat]</td>\n",
       "      <td>DHL Authorized Shipping Center</td>\n",
       "      <td>DHL Authorized Shipping Center</td>\n",
       "    </tr>\n",
       "  </tbody>\n",
       "</table>\n",
       "</div>"
      ],
      "text/plain": [
       "              X             Y  OBJECTID  FEATURE_ID                  NAME  \\\n",
       "0 -1.120834e+07  5.030051e+06         1        2093           DHL STATION   \n",
       "1 -8.043436e+06  5.299085e+06         2        2293         PC CONNECTION   \n",
       "2 -8.045972e+06  5.301971e+06         3        2294         20 CENTRAL SQ   \n",
       "3 -8.046142e+06  5.301455e+06         4        2299        SHIPPING SHACK   \n",
       "4 -8.053022e+06  5.367961e+06         5        2597  CLAREMONT LOCK & KEY   \n",
       "\n",
       "                 ADDRESS       ADDRESS2          CITY STATE    ZIP   LATITUDE  \\\n",
       "0  5120 EAST LEE BIRD RD  NOT AVAILABLE  NORTH PLATTE    NE  69101  41.119952   \n",
       "1        450 MARLBORO ST  NOT AVAILABLE         KEENE    NH   3431  42.915280   \n",
       "2          20 CENTRAL SQ  NOT AVAILABLE         KEENE    NH   3431  42.934262   \n",
       "3          63 EMERALD ST  NOT AVAILABLE         KEENE    NH   3431  42.930868   \n",
       "4        159 PLEASANT ST  NOT AVAILABLE     CLAREMONT    NH   3743  43.366740   \n",
       "\n",
       "    LONGITUDE MATCH_STATUS      PLACEMENT      CENSUS_CODE  \\\n",
       "0 -100.686217           OK        On Road    Not Available   \n",
       "1  -72.255417           OK  Not Available  330059711001024   \n",
       "2  -72.278195           OK  Not Available  330059713003015   \n",
       "3  -72.279720           OK  Not Available  330059714011009   \n",
       "4  -72.341526           OK  Not Available  330199759022015   \n",
       "\n",
       "                       LAST_PICKUP                     LOCATION_TY  \\\n",
       "0   3:00 Pm [M-F]\\r\\nno Sat Pickup                        Drop Box   \n",
       "1   6:30 Pm [M-F]\\r\\nno Sat Pickup                        Drop Box   \n",
       "2   5:00 Pm [M-F]\\r\\nno Sat Pickup                        Drop Box   \n",
       "3   5:00 Pm [M-F]\\r\\nno Sat Pickup  DHL Authorized Shipping Center   \n",
       "4  3:00 Pm [M-F]\\r\\n12:00 Pm [Sat]  DHL Authorized Shipping Center   \n",
       "\n",
       "                      LOCATION_TH  \n",
       "0  Drop Box and Drop Off Facility  \n",
       "1  Drop Box and Drop Off Facility  \n",
       "2  Drop Box and Drop Off Facility  \n",
       "3  DHL Authorized Shipping Center  \n",
       "4  DHL Authorized Shipping Center  "
      ]
     },
     "execution_count": 44,
     "metadata": {},
     "output_type": "execute_result"
    }
   ],
   "source": [
    "df.head()"
   ]
  },
  {
   "cell_type": "code",
   "execution_count": 45,
   "id": "97247fec",
   "metadata": {
    "papermill": {
     "duration": 0.017358,
     "end_time": "2022-08-12T06:13:28.087941",
     "exception": false,
     "start_time": "2022-08-12T06:13:28.070583",
     "status": "completed"
    },
    "tags": []
   },
   "outputs": [
    {
     "data": {
      "text/plain": [
       "X               float64\n",
       "Y               float64\n",
       "OBJECTID          int64\n",
       "FEATURE_ID        int64\n",
       "NAME             object\n",
       "ADDRESS          object\n",
       "ADDRESS2         object\n",
       "CITY             object\n",
       "STATE            object\n",
       "ZIP               int64\n",
       "LATITUDE        float64\n",
       "LONGITUDE       float64\n",
       "MATCH_STATUS     object\n",
       "PLACEMENT        object\n",
       "CENSUS_CODE      object\n",
       "LAST_PICKUP      object\n",
       "LOCATION_TY      object\n",
       "LOCATION_TH      object\n",
       "dtype: object"
      ]
     },
     "execution_count": 45,
     "metadata": {},
     "output_type": "execute_result"
    }
   ],
   "source": [
    "df.dtypes"
   ]
  },
  {
   "cell_type": "code",
   "execution_count": 46,
   "id": "0f388902",
   "metadata": {
    "papermill": {
     "duration": 0.061196,
     "end_time": "2022-08-12T06:13:28.153844",
     "exception": false,
     "start_time": "2022-08-12T06:13:28.092648",
     "status": "completed"
    },
    "tags": []
   },
   "outputs": [
    {
     "data": {
      "text/html": [
       "<div>\n",
       "<style scoped>\n",
       "    .dataframe tbody tr th:only-of-type {\n",
       "        vertical-align: middle;\n",
       "    }\n",
       "\n",
       "    .dataframe tbody tr th {\n",
       "        vertical-align: top;\n",
       "    }\n",
       "\n",
       "    .dataframe thead th {\n",
       "        text-align: right;\n",
       "    }\n",
       "</style>\n",
       "<table border=\"1\" class=\"dataframe\">\n",
       "  <thead>\n",
       "    <tr style=\"text-align: right;\">\n",
       "      <th></th>\n",
       "      <th>X</th>\n",
       "      <th>Y</th>\n",
       "      <th>OBJECTID</th>\n",
       "      <th>FEATURE_ID</th>\n",
       "      <th>ZIP</th>\n",
       "      <th>LATITUDE</th>\n",
       "      <th>LONGITUDE</th>\n",
       "    </tr>\n",
       "  </thead>\n",
       "  <tbody>\n",
       "    <tr>\n",
       "      <th>count</th>\n",
       "      <td>2.407200e+04</td>\n",
       "      <td>2.407200e+04</td>\n",
       "      <td>24072.000000</td>\n",
       "      <td>24072.000000</td>\n",
       "      <td>24072.000000</td>\n",
       "      <td>24072.000000</td>\n",
       "      <td>24072.000000</td>\n",
       "    </tr>\n",
       "    <tr>\n",
       "      <th>mean</th>\n",
       "      <td>-1.001516e+07</td>\n",
       "      <td>4.504405e+06</td>\n",
       "      <td>12036.500000</td>\n",
       "      <td>12036.816426</td>\n",
       "      <td>48782.274634</td>\n",
       "      <td>37.295641</td>\n",
       "      <td>-89.967749</td>\n",
       "    </tr>\n",
       "    <tr>\n",
       "      <th>std</th>\n",
       "      <td>1.644021e+06</td>\n",
       "      <td>7.143163e+05</td>\n",
       "      <td>6949.132176</td>\n",
       "      <td>6949.506833</td>\n",
       "      <td>28163.535248</td>\n",
       "      <td>5.128487</td>\n",
       "      <td>14.768493</td>\n",
       "    </tr>\n",
       "    <tr>\n",
       "      <th>min</th>\n",
       "      <td>-1.773961e+07</td>\n",
       "      <td>2.230536e+06</td>\n",
       "      <td>1.000000</td>\n",
       "      <td>1.000000</td>\n",
       "      <td>1001.000000</td>\n",
       "      <td>19.640879</td>\n",
       "      <td>-159.357662</td>\n",
       "    </tr>\n",
       "    <tr>\n",
       "      <th>25%</th>\n",
       "      <td>-1.075899e+07</td>\n",
       "      <td>3.990164e+06</td>\n",
       "      <td>6018.750000</td>\n",
       "      <td>6018.750000</td>\n",
       "      <td>28034.750000</td>\n",
       "      <td>33.711759</td>\n",
       "      <td>-96.649631</td>\n",
       "    </tr>\n",
       "    <tr>\n",
       "      <th>50%</th>\n",
       "      <td>-9.496394e+06</td>\n",
       "      <td>4.690440e+06</td>\n",
       "      <td>12036.500000</td>\n",
       "      <td>12036.500000</td>\n",
       "      <td>45219.000000</td>\n",
       "      <td>38.781629</td>\n",
       "      <td>-85.307562</td>\n",
       "    </tr>\n",
       "    <tr>\n",
       "      <th>75%</th>\n",
       "      <td>-8.915677e+06</td>\n",
       "      <td>5.031130e+06</td>\n",
       "      <td>18054.250000</td>\n",
       "      <td>18055.250000</td>\n",
       "      <td>75234.000000</td>\n",
       "      <td>41.127257</td>\n",
       "      <td>-80.090890</td>\n",
       "    </tr>\n",
       "    <tr>\n",
       "      <th>max</th>\n",
       "      <td>-7.551491e+06</td>\n",
       "      <td>9.569101e+06</td>\n",
       "      <td>24072.000000</td>\n",
       "      <td>24073.000000</td>\n",
       "      <td>99801.000000</td>\n",
       "      <td>64.850494</td>\n",
       "      <td>-67.836195</td>\n",
       "    </tr>\n",
       "  </tbody>\n",
       "</table>\n",
       "</div>"
      ],
      "text/plain": [
       "                  X             Y      OBJECTID    FEATURE_ID           ZIP  \\\n",
       "count  2.407200e+04  2.407200e+04  24072.000000  24072.000000  24072.000000   \n",
       "mean  -1.001516e+07  4.504405e+06  12036.500000  12036.816426  48782.274634   \n",
       "std    1.644021e+06  7.143163e+05   6949.132176   6949.506833  28163.535248   \n",
       "min   -1.773961e+07  2.230536e+06      1.000000      1.000000   1001.000000   \n",
       "25%   -1.075899e+07  3.990164e+06   6018.750000   6018.750000  28034.750000   \n",
       "50%   -9.496394e+06  4.690440e+06  12036.500000  12036.500000  45219.000000   \n",
       "75%   -8.915677e+06  5.031130e+06  18054.250000  18055.250000  75234.000000   \n",
       "max   -7.551491e+06  9.569101e+06  24072.000000  24073.000000  99801.000000   \n",
       "\n",
       "           LATITUDE     LONGITUDE  \n",
       "count  24072.000000  24072.000000  \n",
       "mean      37.295641    -89.967749  \n",
       "std        5.128487     14.768493  \n",
       "min       19.640879   -159.357662  \n",
       "25%       33.711759    -96.649631  \n",
       "50%       38.781629    -85.307562  \n",
       "75%       41.127257    -80.090890  \n",
       "max       64.850494    -67.836195  "
      ]
     },
     "execution_count": 46,
     "metadata": {},
     "output_type": "execute_result"
    }
   ],
   "source": [
    "#To get statistical summary of the dataframe\n",
    "df.describe()"
   ]
  },
  {
   "cell_type": "code",
   "execution_count": 47,
   "id": "8a4ff0d5",
   "metadata": {
    "papermill": {
     "duration": 0.37706,
     "end_time": "2022-08-12T06:13:28.554863",
     "exception": false,
     "start_time": "2022-08-12T06:13:28.177803",
     "status": "completed"
    },
    "tags": []
   },
   "outputs": [
    {
     "data": {
      "text/plain": [
       "<Axes: xlabel='CITY'>"
      ]
     },
     "execution_count": 47,
     "metadata": {},
     "output_type": "execute_result"
    }
   ],
   "source": [
    "#Top 10 City-wise number of pickups made\n",
    "city_object=df.groupby('CITY').nunique()['LAST_PICKUP']\n",
    "city_object.sort_values(ascending=False)[:10].plot.bar()"
   ]
  },
  {
   "cell_type": "code",
   "execution_count": 48,
   "id": "58507a77",
   "metadata": {
    "papermill": {
     "duration": 0.324172,
     "end_time": "2022-08-12T06:13:28.884516",
     "exception": false,
     "start_time": "2022-08-12T06:13:28.560344",
     "status": "completed"
    },
    "tags": []
   },
   "outputs": [
    {
     "data": {
      "text/plain": [
       "<Axes: ylabel='CITY'>"
      ]
     },
     "execution_count": 48,
     "metadata": {},
     "output_type": "execute_result"
    }
   ],
   "source": [
    "#Top 10 City-wise No of Objects serviced?\n",
    "city_object=df.groupby('CITY').nunique()['OBJECTID']\n",
    "city_object.sort_values(ascending=False)[:10].plot.barh(color='maroon')"
   ]
  },
  {
   "cell_type": "code",
   "execution_count": 49,
   "id": "01047051",
   "metadata": {
    "papermill": {
     "duration": 0.784467,
     "end_time": "2022-08-12T06:13:29.675307",
     "exception": false,
     "start_time": "2022-08-12T06:13:28.890840",
     "status": "completed"
    },
    "tags": []
   },
   "outputs": [
    {
     "data": {
      "text/plain": [
       "<Axes: xlabel='STATE', ylabel='CITY'>"
      ]
     },
     "execution_count": 49,
     "metadata": {},
     "output_type": "execute_result"
    }
   ],
   "source": [
    "#State-wise No of Cities, where DHFL Services are provided? \n",
    "state_city = df.groupby('STATE').nunique()['CITY']\n",
    "state_city.sort_values(ascending=False).plot.bar(figsize=(25,15))"
   ]
  },
  {
   "cell_type": "code",
   "execution_count": 50,
   "id": "9bf7078c",
   "metadata": {
    "papermill": {
     "duration": 0.059605,
     "end_time": "2022-08-12T06:13:29.741270",
     "exception": false,
     "start_time": "2022-08-12T06:13:29.681665",
     "status": "completed"
    },
    "tags": []
   },
   "outputs": [
    {
     "data": {
      "text/plain": [
       "24072"
      ]
     },
     "execution_count": 50,
     "metadata": {},
     "output_type": "execute_result"
    }
   ],
   "source": [
    "#Total Number of Objects IDs Serviced by DHFL\n",
    "df.nunique()['OBJECTID']"
   ]
  },
  {
   "cell_type": "code",
   "execution_count": 51,
   "id": "9ea0ce36",
   "metadata": {
    "papermill": {
     "duration": 0.103882,
     "end_time": "2022-08-12T06:13:29.851525",
     "exception": false,
     "start_time": "2022-08-12T06:13:29.747643",
     "status": "completed"
    },
    "tags": []
   },
   "outputs": [
    {
     "data": {
      "text/plain": [
       "ZIP\n",
       "43215    44\n",
       "30339    41\n",
       "45202    40\n",
       "30328    33\n",
       "48034    31\n",
       "60515    30\n",
       "78759    30\n",
       "60173    30\n",
       "48084    29\n",
       "28217    29\n",
       "Name: OBJECTID, dtype: int64"
      ]
     },
     "execution_count": 51,
     "metadata": {},
     "output_type": "execute_result"
    }
   ],
   "source": [
    "#Zip Code wise Number of Objects Serviced\n",
    "df.groupby('ZIP').nunique()['OBJECTID'].sort_values(ascending=False).head(10)"
   ]
  },
  {
   "cell_type": "code",
   "execution_count": 52,
   "id": "1fb1388f",
   "metadata": {
    "papermill": {
     "duration": 0.034043,
     "end_time": "2022-08-12T06:13:29.892085",
     "exception": false,
     "start_time": "2022-08-12T06:13:29.858042",
     "status": "completed"
    },
    "tags": []
   },
   "outputs": [],
   "source": [
    "loc=df.groupby('LOCATION_TH')\n",
    "s1 = len(df[df['LOCATION_TH']=='DHL Staffed Facility'])\n",
    "s2 = len(df[df['LOCATION_TH']=='DHL Authorized Shipping Center'])\n",
    "s3 = len(df[df['LOCATION_TH']=='Drop Box and Drop Off Facility'])"
   ]
  },
  {
   "cell_type": "code",
   "execution_count": 53,
   "id": "f9d055bd",
   "metadata": {
    "papermill": {
     "duration": 0.201431,
     "end_time": "2022-08-12T06:13:30.102193",
     "exception": false,
     "start_time": "2022-08-12T06:13:29.900762",
     "status": "completed"
    },
    "tags": []
   },
   "outputs": [
    {
     "data": {
      "image/png": "[encoded data removed]",
      "text/plain": [
       "<Figure size 2500x1500 with 1 Axes>"
      ]
     },
     "metadata": {},
     "output_type": "display_data"
    }
   ],
   "source": [
    "#Location_th filter \n",
    "labels = 'DHL Staffed Facility','DHL Authorized Shipping Center','Drop Box and Drop Off Facility'\n",
    "sizes = [s1,s2,s3]\n",
    "colors = ['#ff304f','#775ada','#28c7fa']\n",
    "explode = (0.01,0.01,0.1)\n",
    "#Plot\n",
    "plt.pie(sizes,explode=explode,labels=labels,colors=colors,autopct='%1.1f%%',shadow=True,startangle=140)\n",
    "plt.axis('equal')\n",
    "plt.show()"
   ]
  },
  {
   "cell_type": "code",
   "execution_count": null,
   "id": "43999874",
   "metadata": {
    "papermill": {
     "duration": 0.015842,
     "end_time": "2022-08-12T06:13:30.134901",
     "exception": false,
     "start_time": "2022-08-12T06:13:30.119059",
     "status": "completed"
    },
    "tags": []
   },
   "outputs": [],
   "source": []
  },
  {
   "cell_type": "code",
   "execution_count": null,
   "id": "eff61c22-2578-472f-b940-64be5f1738cc",
   "metadata": {},
   "outputs": [],
   "source": []
  }
 ],
 "metadata": {
  "kernelspec": {
   "display_name": "base",
   "language": "python",
   "name": "python3"
  },
  "language_info": {
   "codemirror_mode": {
    "name": "ipython",
    "version": 3
   },
   "file_extension": ".py",
   "mimetype": "text/x-python",
   "name": "python",
   "nbconvert_exporter": "python",
   "pygments_lexer": "ipython3",
   "version": "3.12.7"
  },
  "papermill": {
   "default_parameters": {},
   "duration": 13.260363,
   "end_time": "2022-08-12T06:13:30.875776",
   "environment_variables": {},
   "exception": null,
   "input_path": "__notebook__.ipynb",
   "output_path": "__notebook__.ipynb",
   "parameters": {},
   "start_time": "2022-08-12T06:13:17.615413",
   "version": "2.3.4"
  }
 },
 "nbformat": 4,
 "nbformat_minor": 5
}
